{
  "nbformat": 4,
  "nbformat_minor": 0,
  "metadata": {
    "colab": {
      "provenance": []
    },
    "kernelspec": {
      "name": "python3",
      "display_name": "Python 3"
    },
    "language_info": {
      "name": "python"
    }
  },
  "cells": [
    {
      "cell_type": "code",
      "source": [
        "pip install python-docx scikit-learn\n"
      ],
      "metadata": {
        "colab": {
          "base_uri": "https://localhost:8080/"
        },
        "id": "w95yqvDF2xea",
        "outputId": "ed74fac6-0a58-4051-e1c6-aa175713e0c9"
      },
      "execution_count": 1,
      "outputs": [
        {
          "output_type": "stream",
          "name": "stdout",
          "text": [
            "Requirement already satisfied: python-docx in /usr/local/lib/python3.10/dist-packages (1.1.2)\n",
            "Requirement already satisfied: scikit-learn in /usr/local/lib/python3.10/dist-packages (1.3.2)\n",
            "Requirement already satisfied: lxml>=3.1.0 in /usr/local/lib/python3.10/dist-packages (from python-docx) (4.9.4)\n",
            "Requirement already satisfied: typing-extensions>=4.9.0 in /usr/local/lib/python3.10/dist-packages (from python-docx) (4.12.2)\n",
            "Requirement already satisfied: numpy<2.0,>=1.17.3 in /usr/local/lib/python3.10/dist-packages (from scikit-learn) (1.26.4)\n",
            "Requirement already satisfied: scipy>=1.5.0 in /usr/local/lib/python3.10/dist-packages (from scikit-learn) (1.13.1)\n",
            "Requirement already satisfied: joblib>=1.1.1 in /usr/local/lib/python3.10/dist-packages (from scikit-learn) (1.4.2)\n",
            "Requirement already satisfied: threadpoolctl>=2.0.0 in /usr/local/lib/python3.10/dist-packages (from scikit-learn) (3.5.0)\n"
          ]
        }
      ]
    },
    {
      "cell_type": "code",
      "source": [
        "from sklearn.feature_extraction.text import TfidfVectorizer\n",
        "from sklearn.metrics.pairwise import cosine_similarity\n",
        "import docx"
      ],
      "metadata": {
        "id": "C9VYq0Ib23vI"
      },
      "execution_count": 2,
      "outputs": []
    },
    {
      "cell_type": "code",
      "source": [
        "def read_resume(file_path):\n",
        "    doc = docx.Document(file_path)\n",
        "    full_text = []\n",
        "    for para in doc.paragraphs:\n",
        "        full_text.append(para.text)\n",
        "    return '\\n'.join(full_text)"
      ],
      "metadata": {
        "id": "_i7nc4hE29TW"
      },
      "execution_count": 3,
      "outputs": []
    },
    {
      "cell_type": "code",
      "source": [
        "def calculate_similarity(resume_text, job_description):\n",
        "    # Convert the text into TF-IDF features\n",
        "    documents = [resume_text, job_description]\n",
        "    tfidf_vectorizer = TfidfVectorizer().fit_transform(documents)\n",
        "    # Calculate the cosine similarity between the resume and job description\n",
        "    cosine_sim = cosine_similarity(tfidf_vectorizer[0:1], tfidf_vectorizer[1:2])\n",
        "    return cosine_sim[0][0]"
      ],
      "metadata": {
        "id": "S1doBciW3GVt"
      },
      "execution_count": 4,
      "outputs": []
    },
    {
      "cell_type": "markdown",
      "source": [
        "**Calculating** **Similarity**:\n",
        "The calculate_similarity function uses TF-IDF vectorization to convert the resume and job description into numerical representations.\n",
        "It then calculates the cosine similarity between the two, which gives a score between 0 and 1, where 1 means the texts are identical, and 0 means they are completely different."
      ],
      "metadata": {
        "id": "DqHq3S0288X4"
      }
    },
    {
      "cell_type": "code",
      "source": [
        "resume_path = '/content/CV Rahul Setia BI&A June.docx'\n",
        "resume_text = read_resume(resume_path)"
      ],
      "metadata": {
        "id": "Qe-6IRlu3jHy"
      },
      "execution_count": 5,
      "outputs": []
    },
    {
      "cell_type": "code",
      "source": [
        "print(resume_text)"
      ],
      "metadata": {
        "colab": {
          "base_uri": "https://localhost:8080/"
        },
        "id": "audIxkN_8XRE",
        "outputId": "671e7525-272e-4a34-cc9d-2ab9eb1ac6d2"
      },
      "execution_count": 6,
      "outputs": [
        {
          "output_type": "stream",
          "name": "stdout",
          "text": [
            "\n",
            "\n",
            "Rahul Setia\n",
            "Business Intelligence & Data Analytics\n",
            "Seven years of expertise in data analytics and modelling, business intelligence, client communications, and reporting. Instrumental in driving project success at leading companies from sectors like Steel, Automotive, Construction, and Education. Collaborated with 50+ stakeholders across 10+ projects. Proﬁcient at converting complex business needs into effective data-layer solutions, delivering impactful results, and contributing to attaining organisational goals.\n",
            "rahulsetia25@gmail.com\n",
            "\n",
            "\n",
            "9643661480\n",
            "\n",
            "\n",
            "Gurugram\n",
            "\n",
            "\n",
            "linkedin.com/in/rahul-setia\n",
            "\n",
            "\n",
            "\n",
            "\n",
            "AREA OF EXPERTISE\n",
            "\n",
            "\n",
            "    \n",
            "\n",
            "     \n",
            "\n",
            "   \n",
            "\n",
            "TECHNICAL SKILLS\n",
            "\n",
            "\n",
            "Business Intelligence & Analytics\n",
            "Advance Excel, Power BI, SAP Analytics Cloud\n",
            "Data Transformation\n",
            "Alteryx, Azure SQL\n",
            "\n",
            "\n",
            "Coding Language\tSQL, Python\tProductivity Tools\tMS Ofﬁce & Google Tools\n",
            "\n",
            "\n",
            "Cloud\tMicrosoft Azure\tForecasting Models\n",
            "ARIMA, Croston TSB, Holt-Winters\n",
            "\n",
            "\n",
            "CERTIFICATES\n",
            "\n",
            "Google Data Analytics\tAZ-900 Microsoft Azure Fundamentals PL-300 Microsoft Certiﬁed Power BI Data Analyst\tAlteryx Designer Core\n",
            "Tools of Financial Analysis by University of Melbourne\tStrategic Management by Copenhagen Buss. School\n",
            "\n",
            "WORK EXPERIENCE\n",
            "Senior Consultant\n",
            "PricewaterhouseCoopers\n",
            "10/2022 - Present, Achievements/Tasks\n",
            "Successfully delivered Sales, Finance (P&L, Balance Sheet), Supply Chain, Marketing and Operations business intelliglence Solutions\n",
            "at Stonex, Honda, and NIIT using Power BI/SAP Analytics Cloud.\n",
            "Boosted 35% proﬁtability in Daimler India's warranty business by developing an AMC pricing algorithm based on product life cycle.\n",
            "Achieved 95% customer satisfaction in Volvo Eicher's after-sales business using Time Series Forecasting and Inventory Planning Solutions.\n",
            "Proﬁcient in functional documentation like Proposals, Kickoff decks, process ﬂows, use cases, business requirements, UAT, KT, and Handover documents.\n",
            "Designed from start to ﬁnish complex analytic solutions, Maintained strong client relations, and completed projects on time.\n",
            "\n",
            "\t\n",
            "WORK EXPERIENCE\n",
            "Deputy Manager\n",
            "Maruti Suzuki India Limited\n",
            "06/2019 - 10/2022,\n",
            "Achievements/Tasks\n",
            "Collaborated with 8+ departments to understand unique data requirements, fostering comprehensive data analysis. Designed and maintained 5+ Power BI reports, dashboards, and datasets for streamlined data visualization.\n",
            "Developed 10+ use cases like identifying patterns, cause-and-effect relationships, classiﬁcation, regression, and clustering. Guided and mentored a high-performing BI team of 3 members, optimizing project execution in tight timelines.\n",
            "Associate Manager\n",
            "Jindal Stainless Limited\n",
            "09/2017 - 06/2019,\n",
            "Achievements/Tasks\n",
            "Conducted gap analysis to identify areas of improvement and give solutions to enhance process eﬃciency. Achieved 75%-85% accuracy in statistical models for MRO spare forecasting and inventory management. Reduced turnaround time by 15% and optimised in-plant material logistics.\n",
            "Formulated 10 KPIs and Implemented best strategies for smooth departmental operations, awarded \"Best Department\" for two quarters.\n",
            "\n",
            "PUBLICATIONS\n",
            "\n",
            "White paper\n",
            "Commercial Vehicle Spare Parts Demand Forecasting\n",
            "01/2024\n",
            "PwC Global Connected Source\n",
            "\n",
            "EDUCATION\n",
            "B.Tech., Mechanical Engineering\n",
            "Deenbandhu Chhotu Ram University of Science and Technology, Sonepat\n",
            "2013 - 2017, CGPA\n",
            "8.04 ( Honors' Degree )\n",
            "\n",
            "INTERNSHIPS\n",
            "\n",
            "Hartron Communications Ltd (2016)\n",
            "12-week course in Component Design and Analysis\n",
            "\n",
            "Yamaha Motor India Pvt. Ltd. (2015)\n",
            "Reduced total machine time in Engine Machine Shop.\n",
            "\n",
            "AWARDS\n",
            "\n",
            "Quarterly Award\n",
            "Maruti Suzuki India Limited\n",
            "Exceptional contributions and outstanding performance, highlighting the dedication and impactful results within the Team.\n"
          ]
        }
      ]
    },
    {
      "cell_type": "code",
      "source": [
        "job_description = input(\"Enter the job description:\")"
      ],
      "metadata": {
        "colab": {
          "base_uri": "https://localhost:8080/"
        },
        "id": "jALm3Wox4emP",
        "outputId": "77445e3c-49ae-41a2-d317-30f4e9e48953"
      },
      "execution_count": 7,
      "outputs": [
        {
          "name": "stdout",
          "output_type": "stream",
          "text": [
            "Enter the job description:Drive expertise in Audience segmentation and Custom targeting leveraging Amex & Partner data assets. Optimize performance, drive efficient growth through personalized acquisition incentive, bidding strategies and Test & Learn program for various prospect segments. Enable robust measurement and optimize performance of Paid search through Attribution modelling and inform optimization of key KPIs. Collaborating to create world class analytical solutions and developing future-proof identity solution for performance marketing use-cases. Develop and foster cross functional relationships with partners across American Express to ensure project prioritization and implementation. Work in a dynamic, fast changing environment, with attention to detail and effective communication skills.\n"
          ]
        }
      ]
    },
    {
      "cell_type": "code",
      "source": [
        "similarity_score = calculate_similarity(resume_text, job_description)\n",
        "print(f\"The similarity score between the resume and job description is: {similarity_score:.2f}\")"
      ],
      "metadata": {
        "colab": {
          "base_uri": "https://localhost:8080/"
        },
        "id": "dcHXq9qD5L_g",
        "outputId": "8ac83578-4b0b-4b0e-a5b1-d8be8395c6bd"
      },
      "execution_count": 8,
      "outputs": [
        {
          "output_type": "stream",
          "name": "stdout",
          "text": [
            "The similarity score between the resume and job description is: 0.37\n"
          ]
        }
      ]
    },
    {
      "cell_type": "markdown",
      "source": [
        "Let's break down the `calculate_similarity` function in detail to understand the technical aspects of how it computes the similarity score between a resume and a job description.\n",
        "\n",
        "### 1. **Text Representation Using TF-IDF**\n",
        "\n",
        "#### Term Frequency-Inverse Document Frequency (TF-IDF)\n",
        "- **Term Frequency (TF):** This measures how frequently a term (word) appears in a document. The idea is that the more frequently a term appears in a document, the more important it is. However, simply counting the frequency might not be enough because some words (like \"the\", \"and\", etc.) are common across many documents.\n",
        "  \n",
        "- **Inverse Document Frequency (IDF):** To address the issue of common words, IDF scales down the importance of words that appear in many documents. It assigns higher importance to words that are unique to a specific document within a collection of documents.\n",
        "  \n",
        "- **TF-IDF:** This is the product of TF and IDF. TF-IDF gives a score to each word in a document, where higher scores indicate words that are important in that document but not common across other documents. This helps in distinguishing the meaningful words in the text.\n",
        "\n",
        "**Vectorization**:\n",
        "- **TfidfVectorizer()**: In the `calculate_similarity` function, `TfidfVectorizer()` is used to convert the text of the resume and job description into a matrix of TF-IDF features.\n",
        "  \n",
        "  ```python\n",
        "  tfidf_vectorizer = TfidfVectorizer().fit_transform(documents)\n",
        "  ```\n",
        "  - **`documents`:** This is a list containing the resume text and the job description text.\n",
        "  - The result, `tfidf_vectorizer`, is a matrix where each row represents a document (resume or job description) and each column represents a unique word (term) in the combined text of the documents.\n",
        "  - Each cell in this matrix contains the TF-IDF score for a particular term in a particular document.\n",
        "\n",
        "### 2. **Cosine Similarity**\n",
        "\n",
        "#### Concept of Cosine Similarity:\n",
        "- **Cosine Similarity** is a measure of similarity between two non-zero vectors. It calculates the cosine of the angle between two vectors in a multidimensional space.\n",
        "- In the context of text analysis, these vectors represent documents, and their dimensions correspond to the TF-IDF scores of terms.\n",
        "- The cosine of 0° is 1, meaning the documents are identical; the cosine of 90° is 0, meaning the documents are completely dissimilar.\n",
        "\n",
        "**Formula**:\n",
        "\\[ \\text{Cosine Similarity} = \\frac{A \\cdot B}{||A|| \\times ||B||} \\]\n",
        "Where:\n",
        "- \\( A \\cdot B \\) is the dot product of vectors \\( A \\) (resume) and \\( B \\) (job description).\n",
        "- \\( ||A|| \\) and \\( ||B|| \\) are the magnitudes (lengths) of the vectors.\n",
        "\n",
        "**Application in the Code**:\n",
        "- After generating the TF-IDF matrix, the next step is to calculate the cosine similarity between the resume vector and the job description vector.\n",
        "\n",
        "  ```python\n",
        "  cosine_sim = cosine_similarity(tfidf_vectorizer[0:1], tfidf_vectorizer[1:2])\n",
        "  ```\n",
        "  - Here, `tfidf_vectorizer[0:1]` refers to the vector representation of the resume.\n",
        "  - `tfidf_vectorizer[1:2]` refers to the vector representation of the job description.\n",
        "  - `cosine_similarity` computes the cosine similarity between these two vectors.\n",
        "\n",
        "### 3. **Output**\n",
        "\n",
        "- The function returns the cosine similarity score as a single value, which lies between 0 and 1.\n",
        "  \n",
        "  ```python\n",
        "  return cosine_sim[0][0]\n",
        "  ```\n",
        "\n",
        "  - `cosine_sim[0][0]` extracts the similarity score from the resulting similarity matrix, which is a 1x1 matrix (since we're comparing just two documents).\n",
        "\n",
        "### Summary\n",
        "- **TF-IDF** converts the textual content of both the resume and job description into numerical vectors that capture the importance of terms.\n",
        "- **Cosine Similarity** then compares these vectors to produce a similarity score, indicating how closely the resume matches the job description based on their content.\n",
        "\n",
        "This score is useful in determining how relevant the resume is to the job description, providing a quantitative measure of similarity."
      ],
      "metadata": {
        "id": "8K4VR3lP-jJx"
      }
    }
  ]
}